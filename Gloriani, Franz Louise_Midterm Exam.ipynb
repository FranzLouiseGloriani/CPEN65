{
  "nbformat": 4,
  "nbformat_minor": 0,
  "metadata": {
    "colab": {
      "provenance": [],
      "authorship_tag": "ABX9TyPpg+dK/ozJW29qnTMjMBCd",
      "include_colab_link": true
    },
    "kernelspec": {
      "name": "python3",
      "display_name": "Python 3"
    },
    "language_info": {
      "name": "python"
    }
  },
  "cells": [
    {
      "cell_type": "markdown",
      "metadata": {
        "id": "view-in-github",
        "colab_type": "text"
      },
      "source": [
        "<a href=\"https://colab.research.google.com/github/FranzLouiseGloriani/CPEN65-1/blob/main/Gloriani%2C%20Franz%20Louise_Midterm%20Exam.ipynb\" target=\"_parent\"><img src=\"https://colab.research.google.com/assets/colab-badge.svg\" alt=\"Open In Colab\"/></a>"
      ]
    },
    {
      "cell_type": "markdown",
      "source": [
        "## A. Methodology"
      ],
      "metadata": {
        "id": "HOMrPCKJOJua"
      }
    },
    {
      "cell_type": "markdown",
      "source": [
        "1. Write a Python program to create an array of 10 integers and display the array items. Access individual elements through indexes and compute for the sum."
      ],
      "metadata": {
        "id": "vuYQBkfDOMXr"
      }
    },
    {
      "cell_type": "code",
      "execution_count": 5,
      "metadata": {
        "colab": {
          "base_uri": "https://localhost:8080/"
        },
        "id": "yEhlNEWZ_Zlg",
        "outputId": "7e91ff7e-7eb5-42b4-f428-af3abe54ecad"
      },
      "outputs": [
        {
          "output_type": "stream",
          "name": "stdout",
          "text": [
            "[1, 2, 3, 4, 5, 6, 7, 8, 9, 10]\n",
            "0 1\n",
            "1 2\n",
            "2 3\n",
            "3 4\n",
            "4 5\n",
            "5 6\n",
            "6 7\n",
            "7 8\n",
            "8 9\n",
            "9 10\n",
            "The sum of the elements is: 55\n"
          ]
        }
      ],
      "source": [
        "array = [1, 2, 3, 4, 5, 6, 7, 8, 9, 10]\n",
        "print(array)\n",
        "\n",
        "for index, val in enumerate(array):\n",
        "  print(index, val)\n",
        "\n",
        "print(\"The sum of the elements is:\", sum(array))"
      ]
    },
    {
      "cell_type": "markdown",
      "source": [
        "2. Write a Python program to append a new item to the end of the array. \n",
        "* Original array: numbers = [1, 2, 3, 4, 5, 6, 7, 8, 9, 10]\n",
        "\n"
      ],
      "metadata": {
        "id": "K4bjePDrORRZ"
      }
    },
    {
      "cell_type": "code",
      "source": [
        "numbers = [1, 2, 3, 4, 5, 6, 7, 8, 9, 10]\n",
        "numbers.append(11)\n",
        "print(numbers)"
      ],
      "metadata": {
        "colab": {
          "base_uri": "https://localhost:8080/"
        },
        "id": "NfitTNShOmk7",
        "outputId": "f227e807-206e-491a-fa73-6a4808198283"
      },
      "execution_count": null,
      "outputs": [
        {
          "output_type": "stream",
          "name": "stdout",
          "text": [
            "[1, 2, 3, 4, 5, 6, 7, 8, 9, 10, 11]\n"
          ]
        }
      ]
    },
    {
      "cell_type": "markdown",
      "source": [
        "3. Write a Python program to insert a new item before the last element in an existing array. \n",
        "* Original array: numbers = [1, 2, 3, 4, 5, 6, 7, 8, 9, 10]"
      ],
      "metadata": {
        "id": "3qlQ57fsOohw"
      }
    },
    {
      "cell_type": "code",
      "source": [
        "numbers = [1, 2, 3, 4, 5, 6, 7, 8, 9, 10]\n",
        "numbers.insert(9, 9.5)\n",
        "print(numbers)"
      ],
      "metadata": {
        "colab": {
          "base_uri": "https://localhost:8080/"
        },
        "id": "1RVLAOc9Or3L",
        "outputId": "9235a876-95db-421e-adef-f237a634a5bb"
      },
      "execution_count": null,
      "outputs": [
        {
          "output_type": "stream",
          "name": "stdout",
          "text": [
            "[1, 2, 3, 4, 5, 6, 7, 8, 9, 9.5, 10]\n"
          ]
        }
      ]
    },
    {
      "cell_type": "markdown",
      "source": [
        "4. Write a Python program to reverse the order of the items in the array. \n",
        "* Original array: numbers = [1, 2, 3, 4, 5]"
      ],
      "metadata": {
        "id": "_x34l0CuOtoy"
      }
    },
    {
      "cell_type": "code",
      "source": [
        "numbers = [1, 2, 3, 4, 5]\n",
        "numbers.reverse()\n",
        "print(numbers)"
      ],
      "metadata": {
        "colab": {
          "base_uri": "https://localhost:8080/"
        },
        "id": "XZ5yNmAAOw7m",
        "outputId": "daba65b5-76ee-42ec-c2ff-939c29c41517"
      },
      "execution_count": null,
      "outputs": [
        {
          "output_type": "stream",
          "name": "stdout",
          "text": [
            "[5, 4, 3, 2, 1]\n"
          ]
        }
      ]
    },
    {
      "cell_type": "markdown",
      "source": [
        "5. Let A be an array of size n ≥ 2 containing integers from 1 to n−1, inclusive, with exactly one repeated. Create an algorithm for finding the integer in A that is repeated."
      ],
      "metadata": {
        "id": "cmqyC92_OyvK"
      }
    },
    {
      "cell_type": "code",
      "source": [
        "A = [1, 2, 3, 4, 4] # array size of 5\n",
        "N = len(A)\n",
        "\n",
        "def findRepeated(A, N):\n",
        "    A.sort()\n",
        "    for i in range(1, N):\n",
        "        if (A[i] != i+1):\n",
        "            return A[i]\n",
        "\n",
        "print(findRepeated(A, N))"
      ],
      "metadata": {
        "colab": {
          "base_uri": "https://localhost:8080/"
        },
        "id": "L-6yYFSLO0lf",
        "outputId": "a8a6af1e-234a-4cbd-9807-91153c5a0113"
      },
      "execution_count": null,
      "outputs": [
        {
          "output_type": "stream",
          "name": "stdout",
          "text": [
            "4\n"
          ]
        }
      ]
    }
  ]
}